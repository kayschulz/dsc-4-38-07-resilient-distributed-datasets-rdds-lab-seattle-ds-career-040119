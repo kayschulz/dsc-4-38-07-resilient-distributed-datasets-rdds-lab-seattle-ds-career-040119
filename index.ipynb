{
 "cells": [
  {
   "cell_type": "markdown",
   "metadata": {},
   "source": [
    "## Resilient Distributed Datasets (RDDs) - Lab\n",
    "\n",
    "Resilient Distributed Datasets (RDD) are fundamental data structures of Spark. An RDD is, essentially, the Spark representation of a set of data, spread across multiple machines, with APIs to let you act on it. An RDD could come from any datasource, e.g. text files, a database, a JSON file etc.\n",
    "\n",
    "\n",
    "## Objectives\n",
    "\n",
    "You will be able to:\n",
    "\n",
    "* Describe RDDs as fundamental storage units in Spark computing environment\n",
    "* Create RDDs from Python collections\n",
    "* Set number of partitions for parallelizing RDDs\n",
    "* Review an RDD's dependancy graph at different stages of processing. \n",
    "* Apply the map(func) transformation to a given function on all elements of an RDD in different partitions\n",
    "* Use collect() action to trigger the processing stage of spark's lazy evaluation\n",
    "* Use count() action to calculate the number of elements of a parallelized RDD\n",
    "* Use filter(func) to filter unwanted data from RDDs\n",
    "* Develop an understanding of Python's lambda functions for RDDs processing\n"
   ]
  },
  {
   "cell_type": "markdown",
   "metadata": {},
   "source": [
    "## What are RDDs? \n",
    "\n",
    "To get a better understanding of RDDs, let's break down each one of the components of the acronym RDD:\n",
    "\n",
    "Resilient: RDDs are considered \"resilient\" because they have built-in fault tolerance. This means that even if one of the nodes goes offline, RDDs will be able to restore the data. This is already a huge advantage compared to standard storage. If a standard computer dies will performing an operation, all of its memory will be lost in the process. With RDDs, multiple nodes can go offline, and the action will still be held in working memory.\n",
    "\n",
    "Distributed: The data is contained on multiple nodes of a cluster-computing operation. It is efficiently partitioned to allow for parallelism.\n",
    "\n",
    "Dataset: The dataset has been * partitioned * across the multiple nodes. \n",
    "\n",
    "RDDs are the building block upon which more high level spark operations are based upon. Chances are, if you are performing an action using Spark, the operation involves RDDs. \n",
    "\n",
    "\n",
    "\n",
    "Key Characteristics of RDDs:\n",
    "\n",
    "- Immutable: Once an RDD is created, it cannot be modified.\n",
    "- Lazily Evaluated: RDDs will not be evaluated until an action is triggered. Essentially, when RDDs are created, they are programmed to perform some action, but that function will not get activated until it is explicitly called. The reason for lazy evaluation is that allows users to organize the actions of their Spark program into smaller actions. It also saves unnecessary computation and memory load.\n",
    "- In-Memory: The operations in Spark are performed in-memory rather than in the Database. This is what allows Spark to perform fast operations with very large quantities of data.\n",
    "\n",
    "\n"
   ]
  },
  {
   "cell_type": "markdown",
   "metadata": {},
   "source": [
    "### RDD Transformations vs Actions\n",
    "\n",
    "In Spark, we first create a __base RDD__ and then apply one or more transformations to that base RDD following our processing needs. Being immutable means, **once an RDD is created, it cannot be changed**. As a result, **each transformation of an RDD creates a new RDD**. Finally, we can apply one or more **actions** to the RDDs. Spark uses lazy evaluation, so transformations are not actually executed until an action occurs.\n",
    "\n",
    "\n",
    "<img src=\"rdd1.png\" width=500>"
   ]
  },
  {
   "cell_type": "markdown",
   "metadata": {},
   "source": [
    "### Transformations\n",
    "\n",
    "Transformations create a new data set from an existing one by passing each dataset element through a function and returning a new RDD representing the results. In short, creating an RDD from an existing RDD is ‘transformation’.\n",
    "All transformations in Spark are lazy. They do not compute their results right away. Instead, they just remember the transformations applied to some base data set (e.g. a file). The transformations are only computed when an action requires a result that needs to be returned to the driver program.\n",
    "A transformation a RDD that returns another RDD, like map, flatMap, filter, reduceByKey, join, cogroup, etc.\n",
    "\n",
    "### Actions\n",
    "Actions return final results of RDD computations. Actions trigger execution using lineage graph to load the data into original RDD and carry out all intermediate transformations and return the final results to the Driver program or writes it out to the file system. An action returns a value (to a Spark driver - the user program).\n",
    "\n",
    "Here are some of key transformations and actions that we will explore.\n",
    "\n",
    "\n",
    "| Transformations   | Actions       |\n",
    "|-------------------|---------------|\n",
    "| map(func)         | reduce(func)  |\n",
    "| filter(func)      | collect()     |\n",
    "| groupByKey()      | count()       |\n",
    "| reduceByKey(func) | first()       |\n",
    "| mapValues(func)   | take()        |\n",
    "| sample()          | countByKey()  |\n",
    "| distinct()        | foreach(func) |\n",
    "| sortByKey()       |               |\n"
   ]
  },
  {
   "cell_type": "markdown",
   "metadata": {},
   "source": [
    "Let's see how transformations and actions work through a simple example. In this example, we will perform several actions and transformations on RDDs in order to obtain a better understanding of Spark processing. \n",
    "\n",
    "### Create a Python collection \n",
    "\n",
    "We need some data to start experimenting with RDDs. Let's create some sample data and see how RDDs handle it. To practice working with RDDs, we're going to use a simple Python list.\n",
    "\n",
    "- Create a Python list `data` of integers between 1 and 1000 using the `range()` function. \n",
    "- Sanity check : confirm the length of the list (it should be 1000)"
   ]
  },
  {
   "cell_type": "code",
   "execution_count": 1,
   "metadata": {},
   "outputs": [
    {
     "data": {
      "text/plain": [
       "1000"
      ]
     },
     "execution_count": 1,
     "metadata": {},
     "output_type": "execute_result"
    }
   ],
   "source": [
    "data = list(range(1000))\n",
    "len(data)\n",
    "\n",
    "#1000"
   ]
  },
  {
   "cell_type": "markdown",
   "metadata": {},
   "source": [
    "### Initialize an RDD\n",
    "\n",
    "To initialize an RDD, first import `pyspark` and then create a SparkContext assigned to the variable `sc`. Use 'local[*]' as the master."
   ]
  },
  {
   "cell_type": "code",
   "execution_count": 2,
   "metadata": {},
   "outputs": [],
   "source": [
    "import pyspark\n",
    "sc = pyspark.SparkContext('local[*]')"
   ]
  },
  {
   "cell_type": "markdown",
   "metadata": {},
   "source": [
    "Once you've created the SparkContext, you can use the `parallelize` method to create an rdd. Here, create one called `rdd` with 10 partitions using `data` as the collection you are parallelizing."
   ]
  },
  {
   "cell_type": "code",
   "execution_count": 3,
   "metadata": {},
   "outputs": [
    {
     "name": "stdout",
     "output_type": "stream",
     "text": [
      "<class 'pyspark.rdd.RDD'>\n"
     ]
    }
   ],
   "source": [
    "rdd = sc.parallelize(data, 10)\n",
    "print(type(rdd))\n",
    "# <class 'pyspark.rdd.RDD'>"
   ]
  },
  {
   "cell_type": "markdown",
   "metadata": {},
   "source": [
    "Determine how many partitions are being used with this RDD with the getNumPartitions method."
   ]
  },
  {
   "cell_type": "code",
   "execution_count": 4,
   "metadata": {},
   "outputs": [
    {
     "data": {
      "text/plain": [
       "10"
      ]
     },
     "execution_count": 4,
     "metadata": {},
     "output_type": "execute_result"
    }
   ],
   "source": [
    "rdd.getNumPartitions()\n",
    "# 10"
   ]
  },
  {
   "cell_type": "markdown",
   "metadata": {},
   "source": [
    "### Basic descriptive RDD actions\n",
    "\n",
    "Let's perform some basic operations on our RDD. In the cell below, use the methods:\n",
    "* `count`: returns the total count of items in the RDD \n",
    "* `first`: returns the first item in the RDD\n",
    "* `take`: returns the first n items in the RDD\n",
    "* `top`: returns the top n items\n",
    "* `collect`: returns everything from your RDD\n",
    "\n",
    "\n",
    "It's important to note that in a big data context, calling the collect method will often take a very long time to execute and should be handled with care!"
   ]
  },
  {
   "cell_type": "code",
   "execution_count": 6,
   "metadata": {
    "scrolled": true
   },
   "outputs": [
    {
     "data": {
      "text/plain": [
       "1000"
      ]
     },
     "execution_count": 6,
     "metadata": {},
     "output_type": "execute_result"
    }
   ],
   "source": [
    "# count\n",
    "rdd.count()"
   ]
  },
  {
   "cell_type": "code",
   "execution_count": 7,
   "metadata": {},
   "outputs": [
    {
     "data": {
      "text/plain": [
       "0"
      ]
     },
     "execution_count": 7,
     "metadata": {},
     "output_type": "execute_result"
    }
   ],
   "source": [
    "# first\n",
    "rdd.first()"
   ]
  },
  {
   "cell_type": "code",
   "execution_count": 8,
   "metadata": {},
   "outputs": [
    {
     "data": {
      "text/plain": [
       "[0, 1, 2, 3, 4]"
      ]
     },
     "execution_count": 8,
     "metadata": {},
     "output_type": "execute_result"
    }
   ],
   "source": [
    "# take\n",
    "rdd.take(5)"
   ]
  },
  {
   "cell_type": "code",
   "execution_count": 9,
   "metadata": {},
   "outputs": [
    {
     "data": {
      "text/plain": [
       "[999, 998, 997, 996, 995]"
      ]
     },
     "execution_count": 9,
     "metadata": {},
     "output_type": "execute_result"
    }
   ],
   "source": [
    "# top\n",
    "rdd.top(5)"
   ]
  },
  {
   "cell_type": "code",
   "execution_count": null,
   "metadata": {},
   "outputs": [],
   "source": [
    "# collect\n",
    "rdd.collect()"
   ]
  },
  {
   "cell_type": "markdown",
   "metadata": {},
   "source": [
    "## Map functions\n",
    "\n",
    "Now that you've working a little bit with RDDs, let's make this a little more interesting. Imagine you're running a hot new ecommerce startup called BuyStuff, and you're trying to track of how much it charges customers from each item sold. In the next cell, we're going to create simulated data by multiplying the values 1-1000 by a random number from 0-1."
   ]
  },
  {
   "cell_type": "code",
   "execution_count": 11,
   "metadata": {},
   "outputs": [
    {
     "data": {
      "text/plain": [
       "array([5.17651509e-01, 8.73714039e-01, 1.65671711e+00, 3.24051882e+00,\n",
       "       4.00946323e+00, 9.28771928e-01, 5.82539650e+00, 2.84444218e+00,\n",
       "       1.04623970e+00, 7.52063287e+00, 8.61113042e+00, 3.43873580e+00,\n",
       "       1.01663006e+01, 1.15659614e+01, 9.67182748e+00, 7.70419758e+00,\n",
       "       1.21905222e-01, 1.69404319e+00, 2.42863124e+00, 6.00355318e+00,\n",
       "       1.71650852e+01, 1.97208607e+01, 1.29202594e+01, 6.92067361e-01,\n",
       "       1.82862426e+01, 1.42308923e+01, 2.59284334e+01, 7.07134609e-01,\n",
       "       1.70923238e+01, 1.30925540e+01, 3.03916879e+01, 1.38638573e+01,\n",
       "       4.93306693e-01, 1.74152838e+00, 7.99505230e+00, 9.28989365e+00,\n",
       "       1.13613675e+01, 3.44448831e+01, 7.26000526e+00, 1.31643442e+00,\n",
       "       2.45091933e+01, 4.09788668e+01, 3.08555191e+01, 3.25438270e+01,\n",
       "       3.61836676e+01, 5.82344490e+00, 4.22739132e+00, 3.93520152e+01,\n",
       "       4.30917424e+01, 1.96473654e+01, 2.66768409e+01, 5.63712489e+00,\n",
       "       4.47403489e+01, 1.02889477e+01, 9.85448574e+00, 4.60429395e+01,\n",
       "       4.83659970e+01, 5.60383896e+01, 8.34078017e+00, 2.65154445e+01,\n",
       "       1.29016622e+01, 1.38388317e+00, 3.03543913e+01, 2.36286114e+01,\n",
       "       3.76926250e+01, 1.46059552e+01, 2.83975523e+01, 3.55016180e+01,\n",
       "       5.40553682e+00, 3.38076480e+01, 7.07131327e+01, 6.76198154e+01,\n",
       "       2.55446495e+01, 1.82122782e+01, 6.39934867e+01, 1.81759413e+01,\n",
       "       6.72268862e+01, 6.87120172e+01, 4.99056477e+01, 2.00207526e+01,\n",
       "       2.93132834e+01, 5.54798437e+01, 2.58996547e+01, 3.38590367e+01,\n",
       "       1.83954612e+01, 1.85879234e+01, 8.29066806e+01, 4.68513137e+01,\n",
       "       5.06593314e+01, 4.51737149e-02, 2.11149074e+01, 1.93890744e+01,\n",
       "       8.01261246e+01, 3.96026260e+01, 6.92098366e+00, 2.01978948e+00,\n",
       "       4.96589762e+01, 5.04322031e+01, 1.82256519e+01, 4.43136148e+01,\n",
       "       5.09637024e+01, 7.50110681e+01, 9.15862099e+01, 1.30323895e+01,\n",
       "       8.96144650e+01, 9.83863434e+01, 1.56124580e+01, 1.75759792e+01,\n",
       "       2.17769226e+01, 7.80107196e+01, 7.11668733e+01, 1.09639698e+02,\n",
       "       6.12943497e+01, 1.14913493e+01, 8.71862247e+01, 4.64677887e+01,\n",
       "       8.62826583e+01, 8.61241092e+01, 7.31153747e+01, 7.84116446e+01,\n",
       "       1.01992983e+02, 2.48720551e-01, 1.31455845e+01, 1.90662747e+00,\n",
       "       5.92288502e+01, 4.96075210e+01, 1.12873965e+02, 8.32682321e+01,\n",
       "       2.95287574e+01, 7.39680930e+00, 1.20996383e+02, 2.71450948e+01,\n",
       "       9.68173875e+01, 1.09834645e+02, 6.21002640e+01, 1.27611576e+01,\n",
       "       1.06628614e+02, 8.99305260e+01, 7.91218334e+01, 5.94199155e+01,\n",
       "       7.25329027e+01, 1.81581694e+00, 1.27033184e+02, 3.57643691e+01,\n",
       "       7.05940361e+01, 7.97128100e+01, 8.54516658e+01, 9.69925504e+01,\n",
       "       4.91651502e+01, 1.43094138e+01, 9.44988797e+01, 1.07819784e+02,\n",
       "       1.46034475e+02, 2.03854272e+01, 6.86804250e+01, 3.37530355e+01,\n",
       "       2.53557674e+01, 2.02189441e+01, 1.44494751e+02, 9.81771673e+01,\n",
       "       1.55153425e+02, 3.28618559e+01, 7.04164067e+01, 5.42631401e+00,\n",
       "       1.58348440e+02, 1.17865015e+02, 2.80713729e+01, 5.98454257e+01,\n",
       "       1.39965567e+02, 2.52041252e+01, 1.70538253e+02, 4.56269841e+01,\n",
       "       1.63304294e+02, 1.63393535e+01, 1.26406604e+02, 9.45575710e+01,\n",
       "       1.42281298e+02, 1.06663088e+02, 1.23316614e+02, 9.72218150e+01,\n",
       "       6.67596937e+01, 1.03527444e+02, 1.60879218e+02, 1.58619147e+02,\n",
       "       6.54753920e+01, 6.31237588e+01, 1.07168117e+02, 1.48080693e+02,\n",
       "       6.98411195e+01, 2.99298833e+01, 7.41453779e+01, 7.51250907e+01,\n",
       "       1.46146323e+02, 7.94137521e+01, 1.07997253e+01, 6.28199355e+01,\n",
       "       1.62396075e+02, 3.66742155e+01, 1.98219636e+02, 9.97129306e+01,\n",
       "       1.85481491e+02, 7.53492140e+01, 7.86165947e+01, 1.23565978e+02,\n",
       "       1.02389880e+01, 1.64772268e+02, 1.59188939e+02, 2.01250443e+02,\n",
       "       1.36106464e+02, 1.78065749e+02, 1.53934559e+02, 8.11290556e+01,\n",
       "       1.44824277e+02, 1.58499116e+02, 1.86629505e+02, 1.64299593e+02,\n",
       "       1.55247397e+02, 6.74767843e+01, 1.31783077e+02, 3.38217369e+01,\n",
       "       3.33775726e+01, 1.70657854e+02, 1.21584875e+02, 6.32291211e+01,\n",
       "       7.11448800e+01, 4.41526034e+01, 1.48705708e+02, 9.72610526e+01,\n",
       "       1.55539412e+01, 5.23396836e+01, 1.80603684e+02, 6.31076556e+01,\n",
       "       8.70423636e+01, 2.31337394e+01, 6.39180564e+01, 1.30138158e+02,\n",
       "       1.32777475e+02, 6.48704161e+01, 6.77468770e+01, 3.02880623e+01,\n",
       "       6.76158763e+01, 6.88575546e+01, 4.79514739e+01, 1.00133243e+02,\n",
       "       2.24991969e+02, 2.13728173e+02, 2.09736930e+02, 1.46954536e+02,\n",
       "       2.80319310e+00, 5.33788131e+00, 3.73999090e+01, 2.41614400e+02,\n",
       "       2.05237432e+02, 1.87517959e+01, 1.72611871e+02, 1.94929046e+01,\n",
       "       8.16498410e+01, 1.06267621e+02, 1.03267387e+02, 7.29617032e+01,\n",
       "       6.30514364e+01, 2.11409155e+02, 1.60360140e+02, 1.79982001e+02,\n",
       "       1.34155744e+02, 2.63662452e+02, 1.94618981e+02, 2.33926327e+02,\n",
       "       8.33883511e+01, 1.63808501e+02, 2.02465437e+02, 5.23880425e+00,\n",
       "       7.73600434e+01, 1.13916351e+01, 5.16722720e+01, 2.95617722e+01,\n",
       "       2.70592869e+01, 2.49441879e+02, 2.12313352e+02, 2.51625439e+02,\n",
       "       2.62103166e+02, 3.16048477e+01, 1.31774657e+02, 7.37577842e+01,\n",
       "       1.66621230e+02, 2.48349265e+02, 1.88258237e+02, 2.70524178e+02,\n",
       "       2.27057330e+02, 2.12004910e+02, 2.77497021e+02, 2.68736541e+02,\n",
       "       4.45132402e+01, 2.93030132e+02, 9.66074973e+01, 2.29619635e+02,\n",
       "       1.11899890e+02, 7.85417321e+01, 2.23818411e+02, 1.31481382e+02,\n",
       "       2.51229879e+02, 3.90601011e+00, 2.34515987e+02, 2.01898744e+02,\n",
       "       1.37239941e+02, 6.23430318e+01, 1.19464836e+02, 1.54071190e+02,\n",
       "       2.98453848e+01, 5.98401221e+01, 1.30384098e+02, 2.49778550e+02,\n",
       "       1.27022652e+02, 2.44719859e+02, 2.40280475e+02, 9.63389521e+01,\n",
       "       1.02410511e+02, 3.42557306e+01, 1.86304047e+02, 6.34019028e+01,\n",
       "       3.12854128e+02, 4.94750772e+01, 6.53747172e+01, 2.63960956e+02,\n",
       "       1.29423757e+02, 3.09711752e+00, 5.44354801e+01, 1.18543536e+02,\n",
       "       2.99394223e+02, 2.58065036e+01, 6.79144104e+01, 2.82648798e+00,\n",
       "       2.09812221e+01, 4.15144630e+01, 3.20833637e+02, 2.80082017e+02,\n",
       "       1.63650982e+02, 5.35434741e+01, 2.72269958e+02, 3.09359517e+02,\n",
       "       2.13747670e+02, 1.08189145e+02, 4.58876842e+01, 3.20337549e+01,\n",
       "       7.78599882e+01, 2.15813853e+02, 2.51358583e+02, 1.31051909e+01,\n",
       "       2.86371058e+02, 3.44787748e+02, 1.51343467e+02, 3.59174429e+01,\n",
       "       3.48631275e+02, 2.53397697e+02, 1.33773142e+02, 8.74896783e+01,\n",
       "       1.08080612e+02, 1.89743303e+02, 5.71458511e+01, 2.99839746e+02,\n",
       "       3.39675187e+02, 9.98684775e+01, 2.15654568e+02, 3.17352582e+02,\n",
       "       1.01124211e+01, 2.57427627e+02, 2.52947275e+02, 2.42320846e+02,\n",
       "       3.21455440e+02, 2.51343551e+02, 3.59010776e+02, 3.05001339e+02,\n",
       "       1.64200435e+02, 1.32252389e+01, 3.64804770e+01, 2.72349567e+02,\n",
       "       2.90739801e+02, 3.29493363e+02, 3.55926769e+02, 1.43361033e+01,\n",
       "       3.03996571e+02, 2.40557774e+01, 1.80186347e+02, 3.77311903e+02,\n",
       "       1.86100142e+02, 3.33940704e+02, 1.19248314e+02, 4.90147911e+01,\n",
       "       2.93653049e+02, 5.71052687e+01, 1.23632500e+02, 1.33856466e+02,\n",
       "       3.28685186e+02, 3.60180394e+02, 3.11150440e+02, 2.10647027e+01,\n",
       "       3.56576112e+02, 1.94657536e+02, 1.49101990e+02, 1.16708747e+02,\n",
       "       9.70675705e+01, 2.17238961e+02, 1.83411824e+02, 2.09420845e+01,\n",
       "       3.95724803e+02, 7.38309841e+00, 2.80447785e+02, 6.41080106e+01,\n",
       "       2.70579221e+02, 2.98210742e+00, 2.98344739e+02, 1.81542368e+02,\n",
       "       3.26290634e+01, 2.34835592e+02, 4.03949015e+02, 6.06937383e+01,\n",
       "       2.77758828e+02, 2.89243999e+02, 1.24669817e+02, 3.19894262e+02,\n",
       "       2.60123024e+01, 1.23456186e+02, 3.29844171e+02, 1.79406658e+02,\n",
       "       2.89868366e+02, 2.35254798e+02, 1.37835862e+02, 3.32739493e+02,\n",
       "       3.01495423e+02, 3.22810961e+02, 4.16391299e+02, 2.43191699e+02,\n",
       "       4.09941722e+01, 2.12712999e+02, 1.89570682e+02, 1.57887185e+02,\n",
       "       1.45550516e+01, 3.56777732e+02, 4.19968632e+02, 3.69661483e+02,\n",
       "       1.89551845e+02, 1.48391821e+02, 4.25469710e+02, 3.90293100e+02,\n",
       "       1.51633775e+02, 3.31109953e+02, 1.10584114e+02, 1.04618338e+01,\n",
       "       4.45010157e+02, 1.26325285e+02, 2.16083428e+00, 4.13598798e+02,\n",
       "       4.20320394e+02, 3.14995027e+02, 3.94254157e+01, 5.67260813e+01,\n",
       "       4.51560504e+02, 3.26270092e+02, 7.67997678e+01, 1.97563776e+02,\n",
       "       3.44675017e+02, 1.61925068e+02, 3.45681089e+02, 3.54723435e+02,\n",
       "       3.43511330e+02, 1.98360743e+02, 6.19852278e+01, 3.26951700e+02,\n",
       "       2.03369692e+02, 2.73911816e+02, 1.72836739e+02, 3.53546325e+02,\n",
       "       2.80030927e+01, 3.91295147e+02, 8.61972905e+01, 2.53919467e+02,\n",
       "       3.10437437e+02, 8.79067229e+01, 2.72005118e+02, 1.46839496e+02,\n",
       "       3.14224117e+02, 4.05930298e+02, 4.59151144e+02, 4.59425721e+02,\n",
       "       4.20099903e+02, 3.48459966e+02, 4.63980831e+01, 8.36824132e+01,\n",
       "       2.33553235e+02, 3.96295031e+01, 3.45679217e+02, 1.00626202e+00,\n",
       "       4.30189446e+02, 1.32137836e+02, 1.77417584e+01, 2.23540532e+02,\n",
       "       7.92182788e+01, 9.76684217e+01, 3.42673892e+02, 1.15292752e+02,\n",
       "       4.04560017e+02, 1.92392327e+01, 3.19031256e+02, 3.36401885e+02,\n",
       "       4.02886256e+02, 4.05454928e+02, 2.42211967e+02, 1.51514959e+02,\n",
       "       4.74230015e+02, 5.48975700e+01, 3.33439864e+02, 2.71797523e+01,\n",
       "       3.95348661e+02, 4.74319589e+02, 8.79094941e+01, 4.26029785e+02,\n",
       "       4.35725445e+02, 2.63219117e+01, 3.34369418e+02, 4.10761236e+02,\n",
       "       5.16813989e+02, 2.22949912e+02, 3.78826591e+02, 1.83487176e+02,\n",
       "       1.76025279e+02, 2.86210546e+02, 3.42861416e+02, 3.85747609e+02,\n",
       "       3.03134468e+02, 2.86767871e+02, 2.99346401e+02, 1.88123172e+02,\n",
       "       5.32745264e+02, 2.08462021e+02, 2.72977113e+02, 1.88458282e+02,\n",
       "       2.99911848e+02, 3.13432913e+02, 5.28843906e+02, 4.02072911e+02,\n",
       "       3.41626624e+02, 1.92281309e+02, 4.42170990e+02, 2.49324880e+02,\n",
       "       4.20446105e+02, 4.26922566e+02, 4.75425512e+02, 8.79563271e+00,\n",
       "       2.07263594e+02, 4.47323710e+01, 1.43577405e+02, 1.83855522e+02,\n",
       "       4.86448334e+02, 4.17607073e+02, 5.44732047e+02, 1.98518797e+02,\n",
       "       3.00746152e+01, 1.08404785e+02, 2.24352136e+02, 2.59040917e+02,\n",
       "       4.02831044e+02, 5.48766452e+02, 1.69896295e+02, 4.55235706e+02,\n",
       "       1.84986696e+02, 3.08913139e+02, 5.63758507e+01, 1.19886064e+02,\n",
       "       7.03947200e+01, 5.36166834e+02, 3.26090569e+02, 1.15391070e+02,\n",
       "       2.37873535e+02, 1.34561654e+02, 5.56627377e+02, 6.01427122e+01,\n",
       "       3.08546729e+02, 1.68590923e+02, 4.55064232e+02, 7.96161018e+01,\n",
       "       1.33662518e+02, 3.33716266e+02, 3.33337443e+02, 4.54552766e+02,\n",
       "       4.94932812e+02, 2.67029773e+02, 3.38679941e+02, 2.28589777e+02,\n",
       "       3.08785785e+02, 4.87730541e+02, 2.94834397e+02, 5.00340522e+02,\n",
       "       1.23915303e+01, 3.70631141e+01, 5.75009582e+02, 5.50851489e+02,\n",
       "       4.86802946e+02, 2.33818344e+02, 3.75590178e+02, 2.28390358e+01,\n",
       "       3.33200745e+02, 4.70861029e+02, 4.82148113e+02, 2.89413867e+01,\n",
       "       2.45632785e+02, 5.02766538e+02, 1.97220483e+02, 5.81586599e+02,\n",
       "       4.91418860e+02, 1.02682778e+02, 4.07144937e+02, 1.98200569e+02,\n",
       "       3.97138516e+02, 2.96425444e+02, 3.38779095e+02, 5.96094604e+01,\n",
       "       3.13416694e+02, 3.20379121e+02, 4.89385659e+02, 8.41868425e+01,\n",
       "       6.08047771e+02, 9.70959102e+01, 2.98942468e+02, 5.42577317e+02,\n",
       "       4.75365187e+02, 5.10674105e+02, 2.03000247e+02, 4.76869081e+02,\n",
       "       4.95206621e+02, 1.76628367e+01, 8.33556894e+01, 4.12356728e+01,\n",
       "       3.15213517e+02, 3.51246073e+02, 1.24414496e+01, 2.38373553e+02,\n",
       "       2.84438777e+01, 3.69461545e+02, 1.64275815e+01, 7.01221218e+01,\n",
       "       5.82590318e+02, 6.37189147e+02, 3.30157327e+01, 6.95770602e+01,\n",
       "       1.08136783e+02, 4.64693530e+02, 6.29766181e+02, 4.23012698e+02,\n",
       "       7.86239813e+01, 3.48984577e+02, 2.17184813e+02, 1.78105526e+02,\n",
       "       3.52974087e+02, 1.52065265e+02, 1.65607889e+02, 4.81408941e+02,\n",
       "       6.33063431e+02, 5.14310210e+02, 1.82639990e+02, 2.27102955e+02,\n",
       "       2.19351625e+02, 1.54982885e+02, 4.41732812e+02, 2.43825906e+02,\n",
       "       2.19122440e+02, 1.84007567e+01, 6.60461221e+02, 5.65603699e+02,\n",
       "       1.93333503e+02, 1.48639622e+02, 3.26638300e+02, 1.06176785e+02,\n",
       "       4.12319978e+02, 3.43728583e+02, 3.13021038e+02, 4.84670833e+02,\n",
       "       5.62964772e+02, 1.11551719e+02, 4.61522219e+02, 1.51199342e+02,\n",
       "       6.28760617e+02, 5.47858680e+01, 5.55491171e+02, 4.65683186e+02,\n",
       "       3.89309898e+02, 6.00423012e+02, 6.30897172e+02, 5.25935521e+02,\n",
       "       6.28156404e+02, 4.88205978e+02, 3.03525274e+02, 4.66400720e+01,\n",
       "       6.86666251e+02, 6.04841609e+02, 3.72917160e+02, 1.55410304e+02,\n",
       "       9.91232366e+01, 3.65469343e+02, 3.21855560e+02, 5.22656963e+02,\n",
       "       8.28241216e+01, 5.63276627e+02, 1.00154316e+02, 4.90365102e+02,\n",
       "       5.59138700e+02, 1.95097874e+02, 3.70369709e+02, 6.73919308e+01,\n",
       "       3.99298577e+02, 2.36896771e+02, 6.88146807e+02, 2.94776021e+02,\n",
       "       5.05206526e+02, 2.32629100e+02, 5.27610442e+00, 3.98660399e+02,\n",
       "       4.56593702e+02, 7.89376126e+01, 3.04217894e+01, 5.85700051e+02,\n",
       "       2.65527120e+01, 1.21141103e+02, 4.74513819e+02, 5.50004025e+02,\n",
       "       4.91332349e+02, 1.68676409e+02, 6.22461840e+02, 4.17063490e+02,\n",
       "       1.73554162e+02, 1.15493817e+01, 6.43455821e+02, 3.56091395e+02,\n",
       "       5.66230737e+02, 7.31820892e+02, 2.30682481e+02, 4.03988910e+02,\n",
       "       4.24712410e+01, 4.76773130e+02, 1.99515929e+02, 3.11140612e+01,\n",
       "       5.85107665e+02, 4.28736532e+02, 2.27343131e+02, 6.41775339e+02,\n",
       "       3.25676342e+02, 7.13746214e+02, 8.20407742e+01, 5.67891269e+02,\n",
       "       7.76816954e+01, 1.76111964e+02, 4.93660303e+00, 6.25811742e+02,\n",
       "       5.50460173e+02, 5.28611261e+02, 4.68752570e+02, 3.62058035e+02,\n",
       "       1.48906099e+02, 5.25580161e+02, 4.51446095e+02, 5.51128328e+02,\n",
       "       4.52380811e+02, 3.35051979e+02, 2.96953830e+02, 5.50540941e+02,\n",
       "       7.28440330e+02, 2.20536025e+02, 7.51002957e+02, 7.72988561e+01,\n",
       "       5.86293359e+02, 4.01383544e+02, 4.01057591e+02, 6.14160893e+02,\n",
       "       6.72701346e+02, 2.79516371e+02, 1.26341135e+02, 3.61353051e+02,\n",
       "       3.93112554e+01, 3.82144117e+02, 2.60843642e+02, 2.34131030e+02,\n",
       "       3.22957190e+02, 3.31891699e+01, 5.41334667e+02, 6.83456952e+02,\n",
       "       5.20055832e+02, 6.29028546e+02, 3.95146482e+02, 1.78441972e+02,\n",
       "       3.38266183e+02, 2.24010235e+01, 5.51400174e+02, 5.68771474e+02,\n",
       "       1.05175929e+02, 3.91359823e+02, 4.71023982e+02, 2.16292263e+02,\n",
       "       7.06795247e+02, 3.71743938e+02, 2.98792030e+02, 8.08982499e+00,\n",
       "       3.06986249e+02, 6.42042019e+02, 1.85717800e+02, 4.67167012e+02,\n",
       "       2.90217183e+02, 2.65256882e+01, 2.04151762e+02, 6.22508419e+02,\n",
       "       1.92728112e+02, 3.66915910e+02, 1.60807187e+02, 4.42696461e+02,\n",
       "       7.62174743e+01, 1.49727841e+02, 3.33640133e+02, 1.62861013e+02,\n",
       "       7.04637161e+02, 7.54083039e+02, 1.06081123e+02, 7.38924286e+01,\n",
       "       6.47919006e+02, 4.28888601e+02, 3.18668111e+02, 4.18080341e+02,\n",
       "       5.36956224e+02, 2.24565050e+02, 4.64989457e+02, 4.00354133e+02,\n",
       "       5.98978858e+02, 6.48788281e+02, 7.35459006e+01, 6.36875529e+01,\n",
       "       6.06568309e+01, 5.68098320e+02, 2.05235120e+02, 7.51072926e+01,\n",
       "       9.25598925e+01, 4.82482325e+02, 5.38483383e+02, 1.89902292e+01,\n",
       "       1.55127972e+02, 3.05941100e+02, 6.56177611e+02, 6.33653679e+02,\n",
       "       3.12953600e+02, 3.79983840e+02, 4.75425056e+02, 7.34699665e+02,\n",
       "       7.76024175e+01, 1.39641926e+02, 4.98799456e+01, 2.55451159e+02,\n",
       "       7.00279346e+02, 1.21874241e+02, 7.92747571e+02, 2.88389524e+02,\n",
       "       5.25802552e+02, 1.72098441e+02, 1.74036606e+02, 5.75660332e+02,\n",
       "       4.10957219e+02, 2.12961195e+02, 7.35776729e+02, 1.50800553e+01,\n",
       "       7.29241813e+02, 4.67114085e+02, 1.59079516e+02, 8.54699173e+02,\n",
       "       7.41559062e+00, 5.52975011e+02, 2.38924976e+02, 7.88525140e+02,\n",
       "       3.69739682e+02, 8.04806406e+02, 3.04139891e+02, 1.51095094e+02,\n",
       "       3.17284266e+02, 1.82976667e+02, 7.18482242e+02, 4.66592959e+02,\n",
       "       1.00025816e+01, 4.00183640e+02, 7.03472945e+02, 6.53980537e+01,\n",
       "       2.59233680e+02, 8.03452160e+02, 2.96067206e+02, 7.96890569e+02,\n",
       "       4.06308224e+02, 3.49717257e+02, 5.54347606e+02, 2.16951733e+02,\n",
       "       5.17998898e+02, 6.18792277e+01, 1.64385079e+02, 4.57672568e+02,\n",
       "       7.08822183e+02, 8.03614709e+02, 4.98139257e+02, 8.48313656e+02,\n",
       "       3.71841620e+02, 6.59826308e+02, 2.94772177e+02, 7.52440202e+02,\n",
       "       6.83293010e+02, 8.17244304e+02, 1.12521762e+02, 1.53772894e+02,\n",
       "       6.29713904e+01, 8.40947058e+02, 5.48332256e+02, 2.26747595e+02,\n",
       "       8.29545177e+02, 6.46249226e+01, 1.76571221e+02, 4.35025694e+02,\n",
       "       9.04557895e+02, 2.24308898e+02, 9.17495755e+02, 1.32271472e+02,\n",
       "       7.38738630e+02, 3.61909267e+02, 7.69057731e+02, 1.55341777e+01,\n",
       "       2.03964719e+02, 7.64140307e+02, 3.37141416e+02, 2.70649233e+02,\n",
       "       6.03371183e+02, 5.30994101e+02, 4.25271685e+02, 8.19979793e+02,\n",
       "       2.77241285e+02, 1.50757771e+02, 5.57879317e+02, 8.16275149e+02,\n",
       "       9.34707562e+02, 4.95274153e+02, 7.75260133e+01, 9.01968370e+02,\n",
       "       8.42832060e+02, 9.25701207e+02, 5.13178993e+02, 1.08324568e+02,\n",
       "       7.48778761e+02, 5.71073878e+02, 4.72700034e+02, 5.16560236e+02,\n",
       "       5.00470197e+02, 1.69182600e+02, 8.06590447e+02, 4.69552586e+02,\n",
       "       6.62713354e+02, 3.82930933e+01, 4.76862273e+02, 5.21768566e+02,\n",
       "       6.94759758e+02, 6.58392161e+02, 2.26747263e+02, 4.72996599e+02,\n",
       "       4.78306768e+02, 5.61284134e+00, 1.93332995e+02, 4.44852467e+02,\n",
       "       6.94732765e+01, 7.67363865e+02, 8.47066451e+02, 7.83005133e+02,\n",
       "       5.36416635e+00, 1.30135437e+02, 9.52909534e+02, 6.47570717e+02,\n",
       "       5.21817514e+02, 1.42006066e+02, 3.40459808e+02, 4.12685726e+01,\n",
       "       3.44636815e+02, 9.45368414e+02, 9.62977004e+02, 9.41172367e+02,\n",
       "       7.53343838e+02, 7.01428597e+02, 6.50238465e+01, 4.09336759e+02,\n",
       "       1.20604348e+02, 1.16139252e+02, 3.12154033e+02, 7.70848093e+02,\n",
       "       6.36179321e+02, 1.22489736e+02, 4.41562844e+02, 8.77209064e+02,\n",
       "       4.40636846e+02, 5.83065102e+02, 3.83324059e+02, 1.85334334e+02,\n",
       "       8.90692015e+01, 4.76761979e+01, 5.76635448e+02, 2.86186954e+02])"
      ]
     },
     "execution_count": 11,
     "metadata": {},
     "output_type": "execute_result"
    }
   ],
   "source": [
    "import random\n",
    "import numpy as np\n",
    "\n",
    "nums = np.array(range(1,1001))\n",
    "sales_figures = nums * np.random.rand(1000)\n",
    "sales_figures"
   ]
  },
  {
   "cell_type": "markdown",
   "metadata": {},
   "source": [
    "We now have sales prices for 1000 items currently for sale at BuyStuff. Now create an RDD called `price_items` using the newly created data with 10 slices. After you create it, use one of the basic actions to see what's in the RDD."
   ]
  },
  {
   "cell_type": "code",
   "execution_count": null,
   "metadata": {},
   "outputs": [],
   "source": [
    "price_items = sc.parallelize(sales_figures, 10)"
   ]
  },
  {
   "cell_type": "code",
   "execution_count": 14,
   "metadata": {},
   "outputs": [
    {
     "data": {
      "text/plain": [
       "pyspark.rdd.RDD"
      ]
     },
     "execution_count": 14,
     "metadata": {},
     "output_type": "execute_result"
    }
   ],
   "source": [
    "type(price_items)"
   ]
  },
  {
   "cell_type": "markdown",
   "metadata": {},
   "source": [
    "Now let's perform some operations on this simple dataset. To begin with, create a function that will take into account how much money BuyStuff will receive after sales tax has been applied (assume a sales tax of 8%). To make this happen, create a function called `sales_tax` that returns the amount of money our company will receive after the sale tax has been applied. The function will have this parameter:\n",
    "\n",
    "* `item`: (float) number to be multiplied by the sales tax.\n",
    "\n",
    "\n",
    "Apply that function to the rdd by using the map method and assign it to a variable `renenue_minus_tax`"
   ]
  },
  {
   "cell_type": "code",
   "execution_count": 18,
   "metadata": {},
   "outputs": [],
   "source": [
    "def sales_tax(num):\n",
    "    return num * 0.92\n",
    "\n",
    "revenue_minus_tax = price_items.map(sales_tax)"
   ]
  },
  {
   "cell_type": "markdown",
   "metadata": {},
   "source": [
    "Remember, Spark has __lazy evaluation__, which means that the `sales_tax` function is a transformer that is not executed until you call use an action. Use one of the collection methods to execute the transformer now a part of the RDD and observe the contents of the `revenue_minus_tax` rdd."
   ]
  },
  {
   "cell_type": "code",
   "execution_count": 21,
   "metadata": {
    "scrolled": true
   },
   "outputs": [
    {
     "data": {
      "text/plain": [
       "[0.4762393879936447,\n",
       " 0.8038169161905011,\n",
       " 1.5241797419335363,\n",
       " 2.981277316820199,\n",
       " 3.688706168965071,\n",
       " 0.8544701740685743,\n",
       " 5.35936477833035,\n",
       " 2.616886806160029,\n",
       " 0.962540524627943,\n",
       " 6.9189822436210076]"
      ]
     },
     "execution_count": 21,
     "metadata": {},
     "output_type": "execute_result"
    }
   ],
   "source": [
    "revenue_minus_tax.take(10)"
   ]
  },
  {
   "cell_type": "markdown",
   "metadata": {},
   "source": [
    "### Lambda Functions\n",
    "\n",
    "Note that you can also use lambda functions if you want to quickly perform simple operations on data without creating a function. Let's assume that BuyStuff has also decided to offer a 10% discount on all of their items on the pre-tax amounts of each item. Use a lambda function within a map method to apply the additional 10% loss in revenue for BuyStuff and assign the transformed RDD to a new RDD called `discounted`."
   ]
  },
  {
   "cell_type": "code",
   "execution_count": 24,
   "metadata": {},
   "outputs": [],
   "source": [
    "discounted = price_items.map(lambda x: (x * .9))"
   ]
  },
  {
   "cell_type": "code",
   "execution_count": 25,
   "metadata": {
    "scrolled": true
   },
   "outputs": [
    {
     "data": {
      "text/plain": [
       "[0.4658863578198698,\n",
       " 0.786342635403751,\n",
       " 1.4910453997175899,\n",
       " 2.916466940367586,\n",
       " 3.608516904422352,\n",
       " 0.8358947355018661,\n",
       " 5.242856848366646,\n",
       " 2.5599979625478544,\n",
       " 0.9416157306142922,\n",
       " 6.768569586150985]"
      ]
     },
     "execution_count": 25,
     "metadata": {},
     "output_type": "execute_result"
    }
   ],
   "source": [
    "discounted.take(10)"
   ]
  },
  {
   "cell_type": "markdown",
   "metadata": {},
   "source": [
    "## Chaining Methods\n",
    "\n",
    "You are also able to chain methods together with Spark. In one line, remove the tax and discount from the revenue of BuyStuff use a collection method to see the 15 costliest items."
   ]
  },
  {
   "cell_type": "code",
   "execution_count": null,
   "metadata": {},
   "outputs": [],
   "source": [
    "discount_and_tax = price_items.map(lambda x: sales_tax(x * .9))"
   ]
  },
  {
   "cell_type": "code",
   "execution_count": 27,
   "metadata": {
    "scrolled": true
   },
   "outputs": [
    {
     "data": {
      "text/plain": [
       "[797.344959618921,\n",
       " 789.0090941265034,\n",
       " 782.7650464904589,\n",
       " 779.2907195316734,\n",
       " 773.9378610792585,\n",
       " 766.4805995958558,\n",
       " 759.6864847402052,\n",
       " 748.9739367509171,\n",
       " 746.8298099479781,\n",
       " 726.3291050473127,\n",
       " 707.6909153317522,\n",
       " 702.4037075799699,\n",
       " 701.3710212623578,\n",
       " 697.8649454157742,\n",
       " 696.3041642744115]"
      ]
     },
     "execution_count": 27,
     "metadata": {},
     "output_type": "execute_result"
    }
   ],
   "source": [
    "discount_and_tax.top(15)"
   ]
  },
  {
   "cell_type": "markdown",
   "metadata": {},
   "source": [
    "## RDD Lineage\n",
    "\n",
    "\n",
    "We are able to see the full lineage of all the operations that have been performed on an RDD by using the `RDD.toDebugString()` method. As your transformations become more complex, you are encouraged to call this method to get a better understanding of the dependencies between RDDs. Try calling it on the `discounted` RDD to see what RDDs it is dependent on."
   ]
  },
  {
   "cell_type": "code",
   "execution_count": 28,
   "metadata": {},
   "outputs": [
    {
     "data": {
      "text/plain": [
       "b'(10) PythonRDD[11] at RDD at PythonRDD.scala:53 []\\n |   ParallelCollectionRDD[5] at parallelize at PythonRDD.scala:195 []'"
      ]
     },
     "execution_count": 28,
     "metadata": {},
     "output_type": "execute_result"
    }
   ],
   "source": [
    "discounted.toDebugString()"
   ]
  },
  {
   "cell_type": "markdown",
   "metadata": {},
   "source": [
    "### Map vs. Flatmap\n",
    "\n",
    "Depending on how you want your data to be outputted, you might want to use flatMap rather than a simple map. Let's take a look at how it performs operations versus the standard map. Let's say we wanted to maintain the original amount BuyStuff receives for each item as well as the new amount after the tax and discount are applied. Create a map function that will a tuple with (original price, post-discount price)."
   ]
  },
  {
   "cell_type": "code",
   "execution_count": 29,
   "metadata": {},
   "outputs": [
    {
     "name": "stdout",
     "output_type": "stream",
     "text": [
      "1000\n",
      "[(0.5176515086887442, 0.4658863578198698), (0.8737140393375011, 0.786342635403751), (1.656717110797322, 1.4910453997175899), (3.240518822630651, 2.916466940367586), (4.009463227135947, 3.608516904422352), (0.9287719283354068, 0.8358947355018661), (5.825396498185162, 5.242856848366646), (2.844442180608727, 2.5599979625478544), (1.0462397006825468, 0.9416157306142922), (7.5206328735010946, 6.768569586150985)]\n"
     ]
    }
   ],
   "source": [
    "mapped = price_items.map(lambda x: (x, x * .9))\n",
    "print(mapped.count())\n",
    "print(mapped.take(10))"
   ]
  },
  {
   "cell_type": "markdown",
   "metadata": {},
   "source": [
    "Note that we have 1000 tuples created to our specification. Let's take a look at how flatMap differs in its implementation. Use the `flatMap` method with the same function you created above."
   ]
  },
  {
   "cell_type": "code",
   "execution_count": 30,
   "metadata": {},
   "outputs": [
    {
     "name": "stdout",
     "output_type": "stream",
     "text": [
      "2000\n",
      "[0.5176515086887442, 0.4658863578198698, 0.8737140393375011, 0.786342635403751, 1.656717110797322, 1.4910453997175899, 3.240518822630651, 2.916466940367586, 4.009463227135947, 3.608516904422352]\n"
     ]
    }
   ],
   "source": [
    "flat_mapped = price_items.flatMap(lambda x: (x, x * .9))\n",
    "print(flat_mapped.count())\n",
    "print(flat_mapped.take(10))"
   ]
  },
  {
   "cell_type": "markdown",
   "metadata": {},
   "source": [
    "Rather than being represented by tuples, all of the  values are now on the same level. When we are trying to combine different items together, it is sometimes necessary to use flatmap rather than map in order to properly reduce to our specifications. This is not one of those instances, but int he upcoming lab, you just might have to use it."
   ]
  },
  {
   "cell_type": "markdown",
   "metadata": {},
   "source": [
    "## Filter\n",
    "After meeting with some external consultants, BuyStuff has determined that its business will be more profitable if it focuses on higher ticket items. Now, use the filter method to select items that bring in more than $300 after tax and discount have been removed. A filter method is a specialized form of a map function that only returns the items that match a certain criteria. In the cell below:\n",
    "* use a lambda function within a filter function to meet the consultant's suggestion's specifications. set RDD = `selected_items`\n",
    "* calculate the total number of items remaining in BuyStuff's inventory"
   ]
  },
  {
   "cell_type": "code",
   "execution_count": 31,
   "metadata": {},
   "outputs": [
    {
     "data": {
      "text/plain": [
       "262"
      ]
     },
     "execution_count": 31,
     "metadata": {},
     "output_type": "execute_result"
    }
   ],
   "source": [
    "# use the filter function\n",
    "selected_items = discount_and_tax.filter(lambda x: x > 300)\n",
    "\n",
    "# calculate total remaining in inventory \n",
    "selected_items.count()"
   ]
  },
  {
   "cell_type": "markdown",
   "metadata": {},
   "source": [
    "## Reduce\n",
    "\n",
    "Now it's time to figure out how much money BuyStuff would make from selling one of all of it's items after they've reduced their inventory. Use a reduce method with a lambda function to to add up all of the values in the RDD. Your lambda function should have two variables."
   ]
  },
  {
   "cell_type": "code",
   "execution_count": 34,
   "metadata": {},
   "outputs": [
    {
     "data": {
      "text/plain": [
       "120668.38504182789"
      ]
     },
     "execution_count": 34,
     "metadata": {},
     "output_type": "execute_result"
    }
   ],
   "source": [
    "selected_items.reduce(lambda x, y: x + y)"
   ]
  },
  {
   "cell_type": "markdown",
   "metadata": {},
   "source": [
    "The time has come for BuyStuff to open up shop and start selling it's goods. It only has one of each item, but it's allowing 50 lucky users to buy as many items as they want while they remain in stock. Within seconds, BuyStuff is sold out. Below, you'll find the sales data in an RDD with tuples of (user, item bought)."
   ]
  },
  {
   "cell_type": "code",
   "execution_count": 35,
   "metadata": {},
   "outputs": [
    {
     "data": {
      "text/plain": [
       "[(37, 312.41425541203944),\n",
       " (37, 327.6601368809986),\n",
       " (17, 334.4697841063853),\n",
       " (30, 344.77199584321903),\n",
       " (41, 347.7340275286324),\n",
       " (18, 306.07970814225666),\n",
       " (30, 352.2889200329263)]"
      ]
     },
     "execution_count": 35,
     "metadata": {},
     "output_type": "execute_result"
    }
   ],
   "source": [
    "import random\n",
    "random.seed(42)\n",
    "# generating simulated users that have bought each item\n",
    "sales_data = selected_items.map(lambda x: (random.randint(1,50),x))\n",
    "\n",
    "sales_data.take(7)"
   ]
  },
  {
   "cell_type": "markdown",
   "metadata": {},
   "source": [
    "It's time to determine some basic statistics about BuyStuff users.\n",
    "\n",
    "Let's start off by creating an RDD that determines how much each user spent in total.\n",
    "To do this we can use a method called __reduceByKey__ to perform reducing operations while grouping by keys. After you have calculated the total, use the __sortBy__ method on the RDD to rank the users from highest spending to least spending.\n",
    "\n"
   ]
  },
  {
   "cell_type": "code",
   "execution_count": 39,
   "metadata": {},
   "outputs": [
    {
     "data": {
      "text/plain": [
       "[(10, 7984.4965109665045),\n",
       " (13, 7271.665636593777),\n",
       " (38, 6932.02067753431),\n",
       " (29, 6026.989516661704),\n",
       " (20, 5919.110182309427),\n",
       " (37, 5890.735551530993),\n",
       " (33, 5717.668809150444),\n",
       " (30, 5629.874509036534),\n",
       " (19, 5376.703056663366),\n",
       " (50, 4901.872175585835),\n",
       " (31, 4733.945047030082),\n",
       " (11, 4543.468108880126),\n",
       " (28, 4535.29908253022),\n",
       " (39, 4510.664692751573),\n",
       " (18, 4219.913751707682),\n",
       " (26, 3379.696882660315),\n",
       " (49, 3189.544376809883),\n",
       " (25, 2984.234813105253),\n",
       " (3, 2816.886614209128),\n",
       " (45, 2805.3053905311244),\n",
       " (23, 2675.647323200131),\n",
       " (40, 2470.8376982020154),\n",
       " (17, 2406.4510155876033),\n",
       " (41, 2398.189289524894),\n",
       " (7, 2290.7148426917533),\n",
       " (21, 2099.411831069594),\n",
       " (46, 1788.6279511665275),\n",
       " (32, 1346.1509561276594),\n",
       " (44, 1166.009342977397),\n",
       " (8, 1013.7765554448616),\n",
       " (6, 638.262221266879),\n",
       " (15, 526.7564777255802),\n",
       " (2, 477.4541505947121)]"
      ]
     },
     "execution_count": 39,
     "metadata": {},
     "output_type": "execute_result"
    }
   ],
   "source": [
    "# calculate how much each user spent\n",
    "sales_data.reduceByKey(lambda x, y: x + y).sortBy(lambda x: x[1], ascending=False).collect()"
   ]
  },
  {
   "cell_type": "code",
   "execution_count": null,
   "metadata": {},
   "outputs": [],
   "source": [
    "# sort the users from highest to lowest spenders\n"
   ]
  },
  {
   "cell_type": "markdown",
   "metadata": {},
   "source": [
    "Next, let's determine how many items were bought per user. This can be solved in one line using an RDD method. After you've counted the total number of items bought per person, sort the users from most number of items bought to least number of items. Time to start a customer loyalty program!"
   ]
  },
  {
   "cell_type": "code",
   "execution_count": 43,
   "metadata": {},
   "outputs": [
    {
     "data": {
      "text/plain": [
       "[(8, 15),\n",
       " (31, 13),\n",
       " (13, 10),\n",
       " (43, 10),\n",
       " (2, 10),\n",
       " (17, 9),\n",
       " (15, 9),\n",
       " (41, 8),\n",
       " (39, 8),\n",
       " (7, 8),\n",
       " (32, 8),\n",
       " (34, 8),\n",
       " (40, 8),\n",
       " (28, 7),\n",
       " (29, 7),\n",
       " (9, 7),\n",
       " (36, 6),\n",
       " (46, 6),\n",
       " (24, 6),\n",
       " (48, 6),\n",
       " (26, 5),\n",
       " (11, 5),\n",
       " (49, 5),\n",
       " (38, 5),\n",
       " (33, 5),\n",
       " (45, 5),\n",
       " (19, 4),\n",
       " (44, 4),\n",
       " (22, 4),\n",
       " (14, 4),\n",
       " (20, 4),\n",
       " (4, 4),\n",
       " (10, 4),\n",
       " (25, 3),\n",
       " (27, 3),\n",
       " (42, 3),\n",
       " (21, 3),\n",
       " (1, 3),\n",
       " (30, 3),\n",
       " (6, 3),\n",
       " (50, 3),\n",
       " (35, 3),\n",
       " (3, 2),\n",
       " (47, 2),\n",
       " (16, 1),\n",
       " (18, 1),\n",
       " (5, 1),\n",
       " (23, 1)]"
      ]
     },
     "execution_count": 43,
     "metadata": {},
     "output_type": "execute_result"
    }
   ],
   "source": [
    "total_items = sales_data.countByKey()\n",
    "sorted(total_items.items(),key=lambda kv:kv[1],reverse=True)"
   ]
  },
  {
   "cell_type": "markdown",
   "metadata": {},
   "source": [
    "### Additional Reading\n",
    "\n",
    "- [The original paper on RDDs](https://cs.stanford.edu/~matei/papers/2012/nsdi_spark.pdf)\n",
    "- [RDDs in Apache Spark](https://data-flair.training/blogs/create-rdds-in-apache-spark/)\n",
    "- [Programming with RDDs](https://runawayhorse001.github.io/LearningApacheSpark/rdd.html)\n",
    "- [RDD Transformations and Actions Summary](https://www.analyticsvidhya.com/blog/2016/10/using-pyspark-to-perform-transformations-and-actions-on-rdd/)"
   ]
  },
  {
   "cell_type": "markdown",
   "metadata": {},
   "source": [
    "## Summary\n",
    "\n",
    "In this lab we went through a brief introduction to RDD creation from a Python collection, setting a number of logical partitions for an RDD, and extracting lineage and of an RDD in a spark application. We also used transformations and actions to perform calculations across RDDs on a distributed setup. Up next, you'll get the chance to apply these transformations on different books to calculate word counts and various statistics.\n"
   ]
  }
 ],
 "metadata": {
  "kernelspec": {
   "display_name": "Python 3",
   "language": "python",
   "name": "python3"
  },
  "language_info": {
   "codemirror_mode": {
    "name": "ipython",
    "version": 3
   },
   "file_extension": ".py",
   "mimetype": "text/x-python",
   "name": "python",
   "nbconvert_exporter": "python",
   "pygments_lexer": "ipython3",
   "version": "3.6.6"
  }
 },
 "nbformat": 4,
 "nbformat_minor": 2
}
